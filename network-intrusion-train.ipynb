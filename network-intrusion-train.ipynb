{
  "cells": [
    {
      "cell_type": "code",
      "execution_count": null,
      "metadata": {
        "colab": {
          "base_uri": "https://localhost:8080/"
        },
        "id": "DoJoyQFybfxg",
        "outputId": "20ce4866-fb7c-4648-d419-e6716d6b8424"
      },
      "outputs": [
        {
          "output_type": "stream",
          "name": "stdout",
          "text": [
            "Mounted at /content/drive\n"
          ]
        }
      ],
      "source": [
        "from google.colab import drive\n",
        "drive.mount('/content/drive')\n",
        "\n"
      ]
    },
    {
      "cell_type": "code",
      "execution_count": null,
      "metadata": {
        "id": "XSAn2FzEcdAS"
      },
      "outputs": [],
      "source": [
        "import pandas as pd\n",
        "import numpy as np\n",
        "import lightgbm as lgb\n",
        "from sklearn.model_selection import train_test_split\n",
        "from sklearn.preprocessing import LabelEncoder\n",
        "from sklearn.metrics import f1_score, classification_report\n",
        "from lightgbm import early_stopping, log_evaluation\n",
        "\n",
        "train_path = '/content/drive/MyDrive/Copy of compressed_train_32D.csv'\n",
        "test_path = '/content/drive/MyDrive/Copy of compressed_test_32D.csv'\n",
        "\n",
        "\n",
        "train_df = pd.read_csv(train_path)\n",
        "test_df = pd.read_csv(test_path)\n",
        "\n"
      ]
    },
    {
      "cell_type": "code",
      "execution_count": null,
      "metadata": {
        "id": "Nd9vRIHYewMn",
        "colab": {
          "base_uri": "https://localhost:8080/"
        },
        "outputId": "259a357b-e422-4da7-ad5d-920156311225"
      },
      "outputs": [
        {
          "output_type": "stream",
          "name": "stdout",
          "text": [
            "Training until validation scores don't improve for 30 rounds\n",
            "[50]\ttraining's multi_logloss: 1.58265\tvalid_1's multi_logloss: 1.58437\n",
            "[100]\ttraining's multi_logloss: 1.41687\tvalid_1's multi_logloss: 1.41914\n",
            "Did not meet early stopping. Best iteration is:\n",
            "[100]\ttraining's multi_logloss: 1.41687\tvalid_1's multi_logloss: 1.41914\n",
            "Validation F1 Score (weighted): 0.45889300253857945\n",
            "\n",
            "Classification Report:\n",
            "\n",
            "                         precision    recall  f1-score   support\n",
            "\n",
            "           ARP_Spoofing       0.59      0.41      0.49      3209\n",
            "                 Benign       0.90      0.98      0.94     38547\n",
            "MQTT-DDoS-Connect_Flood       0.99      1.00      0.99     34607\n",
            "MQTT-DDoS-Publish_Flood       0.99      0.99      0.99      5525\n",
            " MQTT-DoS-Connect_Flood       0.95      0.92      0.94      2555\n",
            " MQTT-DoS-Publish_Flood       0.99      1.00      0.99      8875\n",
            "    MQTT-Malformed_Data       0.61      0.32      0.42      1026\n",
            "          Recon-OS_Scan       0.45      0.03      0.05      3366\n",
            "       Recon-Ping_Sweep       0.65      0.61      0.63       148\n",
            "        Recon-Port_Scan       0.82      0.93      0.87     16796\n",
            "          Recon-VulScan       0.37      0.10      0.16       435\n",
            "      TCP_IP-DDoS-ICMP1       0.57      0.41      0.48     38988\n",
            "      TCP_IP-DDoS-ICMP2       0.65      0.51      0.57     38964\n",
            "      TCP_IP-DDoS-ICMP3       0.46      0.72      0.56     37942\n",
            "      TCP_IP-DDoS-ICMP4       0.43      0.17      0.24     38548\n",
            "      TCP_IP-DDoS-ICMP5       0.34      0.63      0.44     39007\n",
            "      TCP_IP-DDoS-ICMP6       0.41      0.47      0.44     38175\n",
            "      TCP_IP-DDoS-ICMP7       0.54      0.54      0.54     37204\n",
            "      TCP_IP-DDoS-ICMP8       0.66      0.47      0.55     38668\n",
            "       TCP_IP-DDoS-SYN1       0.48      0.24      0.32     39878\n",
            "       TCP_IP-DDoS-SYN2       0.43      0.25      0.31     40734\n",
            "       TCP_IP-DDoS-SYN3       0.46      0.77      0.57     40405\n",
            "       TCP_IP-DDoS-SYN4       0.68      0.89      0.77     39376\n",
            "       TCP_IP-DDoS-TCP1       0.51      0.91      0.65     40462\n",
            "       TCP_IP-DDoS-TCP2       0.66      0.16      0.25     39416\n",
            "       TCP_IP-DDoS-TCP3       0.63      0.80      0.71     40815\n",
            "       TCP_IP-DDoS-TCP4       0.66      0.61      0.63     40200\n",
            "       TCP_IP-DDoS-UDP1       0.14      0.28      0.19     41234\n",
            "       TCP_IP-DDoS-UDP2       0.15      0.41      0.22     41459\n",
            "       TCP_IP-DDoS-UDP3       0.38      0.13      0.19     41321\n",
            "       TCP_IP-DDoS-UDP4       0.31      0.04      0.07     41269\n",
            "       TCP_IP-DDoS-UDP5       0.13      0.01      0.02     41102\n",
            "       TCP_IP-DDoS-UDP6       0.23      0.34      0.28     40450\n",
            "       TCP_IP-DDoS-UDP7       0.29      0.18      0.22     39537\n",
            "       TCP_IP-DDoS-UDP8       0.13      0.05      0.08     40821\n",
            "       TCP_IP-DoS-ICMP1       0.48      0.79      0.60     20901\n",
            "       TCP_IP-DoS-ICMP2       0.84      0.24      0.38     19395\n",
            "       TCP_IP-DoS-ICMP3       0.76      0.84      0.80     21737\n",
            "       TCP_IP-DoS-ICMP4       0.83      0.55      0.66     21224\n",
            "        TCP_IP-DoS-SYN1       0.53      0.86      0.66     22286\n",
            "        TCP_IP-DoS-SYN2       0.64      0.60      0.62     22329\n",
            "        TCP_IP-DoS-SYN3       0.67      0.26      0.38     21638\n",
            "        TCP_IP-DoS-SYN4       0.77      0.72      0.75     22127\n",
            "        TCP_IP-DoS-TCP1       0.67      0.73      0.70     19081\n",
            "        TCP_IP-DoS-TCP2       0.76      0.48      0.59     19104\n",
            "        TCP_IP-DoS-TCP3       0.63      0.63      0.63     19194\n",
            "        TCP_IP-DoS-TCP4       0.77      0.56      0.64     18698\n",
            "        TCP_IP-DoS-UDP1       0.36      0.16      0.22     27402\n",
            "        TCP_IP-DoS-UDP2       0.18      0.14      0.16     28098\n",
            "        TCP_IP-DoS-UDP3       0.21      0.45      0.29     29229\n",
            "        TCP_IP-DoS-UDP4       0.53      0.39      0.45     28660\n",
            "\n",
            "               accuracy                           0.48   1432167\n",
            "              macro avg       0.55      0.50      0.50   1432167\n",
            "           weighted avg       0.50      0.48      0.46   1432167\n",
            "\n",
            "submission_lightgbm_optimized.csv saved!\n"
          ]
        }
      ],
      "source": [
        "\n",
        "import pandas as pd\n",
        "import numpy as np\n",
        "import lightgbm as lgb\n",
        "from sklearn.model_selection import train_test_split\n",
        "from sklearn.preprocessing import LabelEncoder\n",
        "from sklearn.metrics import f1_score, classification_report\n",
        "from lightgbm import early_stopping, log_evaluation\n",
        "\n",
        "\n",
        "X = train_df.drop(columns=['label']).astype(np.float32).values\n",
        "y = train_df['label'].values\n",
        "X_test = test_df.astype(np.float32).values\n",
        "\n",
        "label_encoder = LabelEncoder()\n",
        "y_encoded = label_encoder.fit_transform(y)\n",
        "\n",
        "X_train, X_val, y_train, y_val = train_test_split(\n",
        "    X, y_encoded, test_size=0.2, stratify=y_encoded, random_state=42\n",
        ")\n",
        "\n",
        "train_data = lgb.Dataset(X_train, label=y_train)\n",
        "val_data = lgb.Dataset(X_val, label=y_val, reference=train_data)\n",
        "\n",
        "params = {\n",
        "    'boosting_type': 'gbdt',\n",
        "    'objective': 'multiclass',\n",
        "    'num_class': len(np.unique(y_encoded)),\n",
        "    'metric': 'multi_logloss',\n",
        "    'device': 'gpu',\n",
        "    'gpu_platform_id': 0,\n",
        "    'gpu_device_id': 0,\n",
        "    'learning_rate': 0.03,\n",
        "    'num_leaves': 16,\n",
        "    'max_depth': 6,\n",
        "    'max_bin': 64,\n",
        "    'feature_fraction': 0.8,\n",
        "    'bagging_fraction': 0.75,\n",
        "    'bagging_freq': 3,\n",
        "    'lambda_l1': 1.0,\n",
        "    'lambda_l2': 1.0,\n",
        "    'verbosity': -1,\n",
        "    'random_state': 42,\n",
        "    'is_unbalance': True\n",
        "}\n",
        "\n",
        "model = lgb.train(\n",
        "    params,\n",
        "    train_data,\n",
        "    num_boost_round=100,\n",
        "    valid_sets=[train_data, val_data],\n",
        "    callbacks=[\n",
        "        early_stopping(stopping_rounds=30),\n",
        "        log_evaluation(50)\n",
        "    ]\n",
        ")\n",
        "\n",
        "val_preds = np.argmax(model.predict(X_val, num_iteration=model.best_iteration), axis=1)\n",
        "val_f1 = f1_score(y_val, val_preds, average='weighted')\n",
        "print(\"Validation F1 Score (weighted):\", val_f1)\n",
        "print(\"\\nClassification Report:\\n\")\n",
        "print(classification_report(y_val, val_preds, target_names=label_encoder.classes_))\n",
        "\n",
        "test_probs = model.predict(X_test, num_iteration=model.best_iteration)\n",
        "test_preds = np.argmax(test_probs, axis=1)\n",
        "test_labels = label_encoder.inverse_transform(test_preds)\n",
        "\n",
        "submission_df = pd.DataFrame({\n",
        "    'index': np.arange(len(test_labels)),\n",
        "    'label': test_labels\n",
        "})\n",
        "submission_df.to_csv(\"submission_lightgbm_optimized.csv\", index=False)\n",
        "print(\"submission_lightgbm_optimized.csv saved!\")\n"
      ]
    },
    {
      "cell_type": "code",
      "execution_count": null,
      "metadata": {
        "id": "1aO2kmRHlLIV",
        "colab": {
          "base_uri": "https://localhost:8080/"
        },
        "outputId": "0a964ac9-b420-41df-8cbf-d097f5440a9b"
      },
      "outputs": [
        {
          "output_type": "stream",
          "name": "stdout",
          "text": [
            "Truncated submission file saved as 'habiba9099.csv'.\n"
          ]
        }
      ],
      "source": [
        "import pandas as pd\n",
        "\n",
        "# Load the submission file\n",
        "submission_df = pd.read_csv(\"submission_lightgbm_optimized.csv\")\n",
        "submission_df = submission_df.head(1048575)\n",
        "\n",
        "# Save the truncated file\n",
        "submission_df.to_csv(\"habiba9099.csv\", index=False)\n",
        "\n",
        "print(\"Truncated submission file saved as 'habiba9099.csv'.\")\n"
      ]
    }
  ],
  "metadata": {
    "accelerator": "GPU",
    "colab": {
      "gpuType": "T4",
      "provenance": []
    },
    "kernelspec": {
      "display_name": "Python 3",
      "name": "python3"
    },
    "language_info": {
      "name": "python"
    }
  },
  "nbformat": 4,
  "nbformat_minor": 0
}